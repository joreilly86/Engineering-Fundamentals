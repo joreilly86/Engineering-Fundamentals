{
 "cells": [
  {
   "cell_type": "code",
   "execution_count": 2,
   "metadata": {},
   "outputs": [
    {
     "name": "stdout",
     "output_type": "stream",
     "text": [
      "The determinant of [k] is: 0.0\n",
      "The determinant of [k_reduced] is: 1.0\n"
     ]
    }
   ],
   "source": [
    "import numpy as np\n",
    "\n",
    "# Given stiffness matrix [k]\n",
    "k = np.array([\n",
    "    [1, -1, 0],\n",
    "    [-1, 2, -1],\n",
    "    [0, -1, 1]\n",
    "])\n",
    "\n",
    "# Calculate the determinant of [k]\n",
    "det_k = np.linalg.det(k)\n",
    "\n",
    "# Display the determinant of [k]\n",
    "print(f\"The determinant of [k] is: {det_k}\")\n",
    "\n",
    "# Now, if we fix the left end (u1 = 0), we remove the first row and the first column\n",
    "# Reduced stiffness matrix [k_reduced]\n",
    "k_reduced = k[1:, 1:]  # Taking the submatrix excluding the first row and column\n",
    "\n",
    "# Calculate the determinant of [k_reduced]\n",
    "det_k_reduced = np.linalg.det(k_reduced)\n",
    "\n",
    "# Display the determinant of [k_reduced]\n",
    "print(f\"The determinant of [k_reduced] is: {det_k_reduced}\")"
   ]
  }
 ],
 "metadata": {
  "kernelspec": {
   "display_name": "Python 3",
   "language": "python",
   "name": "python3"
  },
  "language_info": {
   "codemirror_mode": {
    "name": "ipython",
    "version": 3
   },
   "file_extension": ".py",
   "mimetype": "text/x-python",
   "name": "python",
   "nbconvert_exporter": "python",
   "pygments_lexer": "ipython3",
   "version": "3.11.4"
  }
 },
 "nbformat": 4,
 "nbformat_minor": 2
}
