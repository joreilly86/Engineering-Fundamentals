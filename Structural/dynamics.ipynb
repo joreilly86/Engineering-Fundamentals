{
 "cells": [
  {
   "cell_type": "markdown",
   "metadata": {},
   "source": [
    "Below are common mathematical expressions and symbols written using MathJax (LaTeX) syntax suitable for environments that support it, like Jupyter notebooks and many Markdown renderers.\n",
    "\n",
    "Basic Operations\n",
    "\n",
    "Addition: $(a + b)$\n",
    "\n",
    "Subtraction: $(a - b)$\n",
    "\n",
    "Multiplication (times): $(a \\times b)$\n",
    "\n",
    "Multiplication (dot): $(a \\cdot b)$\n",
    "\n",
    "Division: $\\left(\\frac{a}{b}\\right)$\n",
    "\n",
    "Power/Exponent: $(a^b)$\n",
    "\n",
    "Square root: $\\sqrt{a}$\n",
    "\n",
    "Nth root: $\\sqrt[n]{a}$\n",
    "\n",
    "## Greek Letters\n",
    "Alpha: $\\alpha$, Beta: $\\beta$, Gamma: $\\gamma$, Delta: $\\delta$\n",
    "\n",
    "Theta: $\\theta$, Lambda: $\\lambda$, Sigma: $\\sigma$, Omega: $\\omega$\n",
    "\n",
    "## Trigonometry\n",
    "Sine: $\\sin(\\theta)$, Cosine: $\\cos(\\theta)$, Tangent: $\\tan(\\theta)$\n",
    "\n",
    "Inverse Sine: $\\sin^{-1}(a)$, Inverse Cosine: $\\cos^{-1}(a)$, Inverse Tangent: $\\tan^{-1}(a)$\n",
    "\n",
    "## Calculus\n",
    "Derivative: $\\frac{d}{dx}f(x)$, Partial Derivative: $\\frac{\\partial}{\\partial x}f(x,y)$\n",
    "\n",
    "Integral: $\\int f(x) , dx$, Definite Integral: $\\int_{a}^{b} f(x) , dx$\n",
    "\n",
    "Double Integral: $\\iint_{D} f(x,y) , dx , dy$, Triple Integral: $\\iiint_{E} f(x,y,z) , dx , dy , dz$\n",
    "\n",
    "## Linear Algebra\n",
    "Vector: $\\mathbf{v} = \\begin{pmatrix} v_1 \\ v_2 \\ \\vdots \\ v_n \\end{pmatrix}$\n",
    "\n",
    "Matrix: $\\mathbf{A} = \\begin{pmatrix} a_{11} & a_{12} \\ a_{21} & a_{22} \\end{pmatrix}$\n",
    "\n",
    "Determinant: $\\det(\\mathbf{A})$ or $|\\mathbf{A}|$\n",
    "\n",
    "Transpose: $\\mathbf{A}^T$\n",
    "\n",
    "Inverse: $\\mathbf{A}^{-1}$\n",
    "\n",
    "## Relations and Operations\n",
    "Equals: $a = b$\n",
    "\n",
    "Not Equals: $a \\neq b$\n",
    "\n",
    "Approximately Equal: $a \\approx b$\n",
    "\n",
    "Less Than or Equal: $a \\leq b$\n",
    "\n",
    "Greater Than or Equal: $a \\geq b$\n",
    "\n",
    "Plus/Minus: $a \\pm b$\n",
    "\n",
    "Infinity: $\\infty$\n",
    "\n",
    "## Engineering Specific\n",
    "Stress (Sigma): $\\sigma$ - Normal stress or shear stress.\n",
    "\n",
    "Strain (Epsilon): $\\varepsilon$ - Deformation per unit length.\n",
    "\n",
    "Young's Modulus (E): $E$ - Measure of the stiffness of a material.\n",
    "\n",
    "Moment of Inertia (I): $I$ - Distribution of cross-sectional area.\n",
    "$\n",
    "These expressions use MathJax syntax, which should render correctly in environments that support LaTeX for mathematical notation. This provides a clear and precise way to present mathematical and engineering concepts in your documentation or presentations."
   ]
  },
  {
   "cell_type": "markdown",
   "metadata": {},
   "source": [
    "| Name                  | Code                                      | Symbol            |\n",
    "|-----------------------|-------------------------------------------|-------------------|\n",
    "| Addition              | `$(a + b)$`                               | $(a + b)$         |\n",
    "| Subtraction           | `$(a - b)$`                               | $(a - b)$         |\n",
    "| Multiplication (times)| `$(a \\times b)$`                          | $(a \\times b)$    |\n",
    "| Multiplication (dot)  | `$(a \\cdot b)$`                           | $(a \\cdot b)$     |\n",
    "| Division              | `$\\left(\\frac{a}{b}\\right)$`              | $\\left(\\frac{a}{b}\\right)$ |\n",
    "| Power/Exponent        | `$(a^b)$`                                 | $(a^b)$           |\n",
    "| Square root           | `$(\\sqrt{a})$`                            | $(\\sqrt{a})$      |\n",
    "| Nth root              | `$(\\sqrt[n]{a})$`                         | $(\\sqrt[n]{a})$   |\n",
    "| Alpha                 | `$(\\alpha)$`                              | $(\\alpha)$        |\n",
    "| Beta                  | `$(\\beta)$`                               | $(\\beta)$         |\n",
    "| Gamma                 | `$(\\gamma)$`                              | $(\\gamma)$        |\n",
    "| Delta                 | `$(\\delta)$`                              | $(\\delta)$        |\n",
    "| Sine                  | `$(\\sin(\\theta))$`                        | $(\\sin(\\theta))$  |\n",
    "| Cosine                | `$(\\cos(\\theta))$`                        | $(\\cos(\\theta))$  |\n",
    "| Tangent               | `$(\\tan(\\theta))$`                        | $(\\tan(\\theta))$  |\n",
    "| Derivative            | `$(\\frac{d}{dx}f(x))$`                    | $(\\frac{d}{dx}f(x))$ |\n",
    "| Integral              | `$(\\int f(x) \\, dx)$`                     | $(\\int f(x) \\, dx)$ |\n",
    "| Matrix                | `$\\left(\\begin{matrix} a & b \\\\ c & d \\end{matrix}\\right)$` | $\\left(\\begin{matrix} a & b \\\\ c & d \\end{matrix}\\right)$ |\n",
    "| Infinity              | `$(\\infty)$`                              | $(\\infty)$        |\n"
   ]
  },
  {
   "cell_type": "markdown",
   "metadata": {},
   "source": [
    "## Problem Definition\n",
    "Consider a 2-DOF system with the following properties:\n",
    "\n",
    "- **Masses:** \n",
    "  - m1 = 2 kg\n",
    "  - m2 = 3 kg\n",
    "- **Stiffnesses:** \n",
    "  - k1 = 20000 N/m\n",
    "  - k2 = 30000 N/m\n",
    "- **No damping:** \n",
    "  - c1 and c2 are 0 for simplicity\n",
    "- **External forces are absent:** \n",
    "  - F1(t) and F2(t) are 0\n",
    "\n",
    "The system can be represented by the equation Mx'' + Kx = 0, simplifying to Mx'' + Kx = 0 for this undamped, unforced case.\n",
    "\n",
    "## Superscript and Subscript\n",
    "E = mc<sup>2</sup>\n",
    "H<sub>2</sub>O\n",
    "\n",
    "$$y=x^2$$\n",
    "$ a^2 $\n"
   ]
  },
  {
   "cell_type": "code",
   "execution_count": 1,
   "metadata": {},
   "outputs": [
    {
     "data": {
      "text/plain": [
       "(Matrix([\n",
       " [2, 0],\n",
       " [0, 3]]),\n",
       " Matrix([\n",
       " [ 50000, -30000],\n",
       " [-30000,  30000]]))"
      ]
     },
     "execution_count": 1,
     "metadata": {},
     "output_type": "execute_result"
    }
   ],
   "source": [
    "from sympy import symbols, Matrix, solve\n",
    "\n",
    "# Define symbols\n",
    "m1, m2 = 2, 3  # Masses in kg\n",
    "k1, k2 = 20000, 30000  # Stiffnesses in N/m\n",
    "\n",
    "# Define mass (M) and stiffness (K) matrices\n",
    "M = Matrix([[m1, 0], [0, m2]])\n",
    "K = Matrix([[k1 + k2, -k2], [-k2, k2]])\n",
    "\n",
    "# Display the matrices\n",
    "M, K"
   ]
  },
  {
   "cell_type": "code",
   "execution_count": 2,
   "metadata": {},
   "outputs": [
    {
     "data": {
      "text/plain": [
       "({40000 - 10000*sqrt(10): 1, 10000*sqrt(10) + 40000: 1},\n",
       " [(40000 - 10000*sqrt(10),\n",
       "   1,\n",
       "   [Matrix([\n",
       "    [-1/3 + sqrt(10)/3],\n",
       "    [                1]])]),\n",
       "  (10000*sqrt(10) + 40000,\n",
       "   1,\n",
       "   [Matrix([\n",
       "    [-sqrt(10)/3 - 1/3],\n",
       "    [                1]])])])"
      ]
     },
     "execution_count": 2,
     "metadata": {},
     "output_type": "execute_result"
    }
   ],
   "source": [
    "# Solve for eigenvalues and eigenvectors\n",
    "eigenvals = K.eigenvals()\n",
    "eigenvects = K.eigenvects()\n",
    "\n",
    "eigenvals, eigenvects# Solve for eigenvalues and eigenvectors\n",
    "eigenvals = K.eigenvals()\n",
    "eigenvects = K.eigenvects()\n",
    "\n",
    "eigenvals, eigenvects\n"
   ]
  },
  {
   "cell_type": "code",
   "execution_count": 4,
   "metadata": {},
   "outputs": [
    {
     "name": "stdout",
     "output_type": "stream",
     "text": [
      "Mass Matrix (M):\n"
     ]
    },
    {
     "data": {
      "text/latex": [
       "$\\displaystyle \\left[\\begin{matrix}2 & 0\\\\0 & 3\\end{matrix}\\right]$"
      ],
      "text/plain": [
       "⎡2  0⎤\n",
       "⎢    ⎥\n",
       "⎣0  3⎦"
      ]
     },
     "metadata": {},
     "output_type": "display_data"
    },
    {
     "name": "stdout",
     "output_type": "stream",
     "text": [
      "\n",
      "Stiffness Matrix (K):\n"
     ]
    },
    {
     "data": {
      "text/latex": [
       "$\\displaystyle \\left[\\begin{matrix}50000 & -30000\\\\-30000 & 30000\\end{matrix}\\right]$"
      ],
      "text/plain": [
       "⎡50000   -30000⎤\n",
       "⎢              ⎥\n",
       "⎣-30000  30000 ⎦"
      ]
     },
     "metadata": {},
     "output_type": "display_data"
    },
    {
     "name": "stdout",
     "output_type": "stream",
     "text": [
      "\n",
      "Eigenvalues:\n"
     ]
    },
    {
     "data": {
      "image/png": "[encoded data removed]",
      "text/latex": [
       "$\\displaystyle 91.5271730051585$"
      ],
      "text/plain": [
       "91.5271730051585"
      ]
     },
     "metadata": {},
     "output_type": "display_data"
    },
    {
     "data": {
      "image/png": "[encoded data removed]",
      "text/latex": [
       "$\\displaystyle 267.624319899526$"
      ],
      "text/plain": [
       "267.624319899526"
      ]
     },
     "metadata": {},
     "output_type": "display_data"
    },
    {
     "name": "stdout",
     "output_type": "stream",
     "text": [
      "\n",
      "Eigenvectors:\n",
      "Eigenvalue: 8377.22339831621\n",
      "Multiplicity: 1\n"
     ]
    },
    {
     "data": {
      "text/latex": [
       "$\\displaystyle \\left[ \\left[\\begin{matrix}- \\frac{1}{3} + \\frac{\\sqrt{10}}{3}\\\\1\\end{matrix}\\right]\\right]$"
      ],
      "text/plain": [
       "⎡⎡  1   √10⎤⎤\n",
       "⎢⎢- ─ + ───⎥⎥\n",
       "⎢⎢  3    3 ⎥⎥\n",
       "⎢⎢         ⎥⎥\n",
       "⎣⎣    1    ⎦⎦"
      ]
     },
     "metadata": {},
     "output_type": "display_data"
    },
    {
     "name": "stdout",
     "output_type": "stream",
     "text": [
      "Eigenvalue: 71622.7766016838\n",
      "Multiplicity: 1\n"
     ]
    },
    {
     "data": {
      "text/latex": [
       "$\\displaystyle \\left[ \\left[\\begin{matrix}- \\frac{\\sqrt{10}}{3} - \\frac{1}{3}\\\\1\\end{matrix}\\right]\\right]$"
      ],
      "text/plain": [
       "⎡⎡  √10   1⎤⎤\n",
       "⎢⎢- ─── - ─⎥⎥\n",
       "⎢⎢   3    3⎥⎥\n",
       "⎢⎢         ⎥⎥\n",
       "⎣⎣    1    ⎦⎦"
      ]
     },
     "metadata": {},
     "output_type": "display_data"
    }
   ],
   "source": [
    "from sympy import symbols, Matrix, init_printing\n",
    "\n",
    "# Initialize pretty printing\n",
    "init_printing(use_latex=True)\n",
    "\n",
    "# Define symbols for masses and stiffnesses\n",
    "m1, m2 = symbols('m1 m2')\n",
    "k1, k2 = symbols('k1 k2')\n",
    "\n",
    "# Initialize the values for masses and stiffnesses\n",
    "values = {m1: 2, m2: 3, k1: 20000, k2: 30000}\n",
    "\n",
    "# Define mass (M) and stiffness (K) matrices\n",
    "M = Matrix([[m1, 0], [0, m2]])\n",
    "K = Matrix([[k1 + k2, -k2], [-k2, k2]])\n",
    "\n",
    "# Display the matrices with substituted values\n",
    "M = M.subs(values)\n",
    "K = K.subs(values)\n",
    "\n",
    "# Import functions for solving the system\n",
    "from sympy import sqrt\n",
    "\n",
    "# Solve for eigenvalues and eigenvectors\n",
    "eigenvals = K.eigenvals()\n",
    "eigenvects = K.eigenvects()\n",
    "\n",
    "# Pretty print the matrices, eigenvalues, and eigenvectors\n",
    "print(\"Mass Matrix (M):\")\n",
    "display(M)\n",
    "\n",
    "print(\"\\nStiffness Matrix (K):\")\n",
    "display(K)\n",
    "\n",
    "print(\"\\nEigenvalues:\")\n",
    "for val in eigenvals:\n",
    "    display(sqrt(val).evalf())\n",
    "\n",
    "print(\"\\nEigenvectors:\")\n",
    "for eigenval, multiplicity, eigenvect in eigenvects:\n",
    "    print(f\"Eigenvalue: {eigenval.evalf()}\")\n",
    "    print(\"Multiplicity:\", multiplicity)\n",
    "    display(eigenvect)\n"
   ]
  }
 ],
 "metadata": {
  "kernelspec": {
   "display_name": "Python 3",
   "language": "python",
   "name": "python3"
  },
  "language_info": {
   "codemirror_mode": {
    "name": "ipython",
    "version": 3
   },
   "file_extension": ".py",
   "mimetype": "text/x-python",
   "name": "python",
   "nbconvert_exporter": "python",
   "pygments_lexer": "ipython3",
   "version": "3.11.4"
  }
 },
 "nbformat": 4,
 "nbformat_minor": 2
}
