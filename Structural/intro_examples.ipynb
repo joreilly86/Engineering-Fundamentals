{
 "cells": [
  {
   "cell_type": "markdown",
   "metadata": {},
   "source": [
    "# Flocode\n",
    "\n",
    "## 001 | intro to python\n",
    "\n",
    "    ### 002 | Python in Engineering"
   ]
  },
  {
   "cell_type": "code",
   "execution_count": 1,
   "metadata": {},
   "outputs": [
    {
     "name": "stdout",
     "output_type": "stream",
     "text": [
      "The area of a circle with a radius of 5 units is 78.54 square units.\n"
     ]
    }
   ],
   "source": [
    "import math\n",
    "\n",
    "def calculate_circle_area(radius):\n",
    "    area = math.pi * radius**2\n",
    "    return area\n",
    "\n",
    "# Example: Calculate the area of a circle with a radius of 5 units\n",
    "radius = 5\n",
    "area = calculate_circle_area(radius)\n",
    "print(f\"The area of a circle with a radius of {radius} units is {area:.2f} square units.\")"
   ]
  }
 ],
 "metadata": {
  "kernelspec": {
   "display_name": "Python 3",
   "language": "python",
   "name": "python3"
  },
  "language_info": {
   "codemirror_mode": {
    "name": "ipython",
    "version": 3
   },
   "file_extension": ".py",
   "mimetype": "text/x-python",
   "name": "python",
   "nbconvert_exporter": "python",
   "pygments_lexer": "ipython3",
   "version": "3.11.4"
  }
 },
 "nbformat": 4,
 "nbformat_minor": 2
}
