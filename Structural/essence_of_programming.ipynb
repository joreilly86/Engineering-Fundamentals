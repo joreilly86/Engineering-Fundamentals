{
 "cells": [
  {
   "cell_type": "markdown",
   "metadata": {},
   "source": [
    "# Flocode\n",
    "\n",
    "## 001 | intro to python\n",
    "\n",
    "    ## 003 | Essence of Python"
   ]
  },
  {
   "cell_type": "markdown",
   "metadata": {},
   "source": [
    "# stress = force / area\n",
    "### Formulas directly calculate a single output. \n",
    "\n",
    "### Algorithms can encompass multiple formulas, logic, and even create new formulas on the fly to adapt to input data."
   ]
  },
  {
   "cell_type": "code",
   "execution_count": 1,
   "metadata": {},
   "outputs": [
    {
     "name": "stdout",
     "output_type": "stream",
     "text": [
      "Stress: Invalid area. Area must be greater than zero! Try again! Pascals\n"
     ]
    }
   ],
   "source": [
    "def calculate_stress(force, area):\n",
    "    if area <= 0:\n",
    "        return \"Invalid area. Area must be greater than zero! Try again!\"\n",
    "    return force / area\n",
    "\n",
    "# Example usage\n",
    "force = 100  # in Newtons\n",
    "area = -0.5  # in square meters\n",
    "stress = calculate_stress(force, area)\n",
    "print(f\"Stress: {stress} Pascals\")"
   ]
  },
  {
   "cell_type": "markdown",
   "metadata": {},
   "source": [
    "A formula is rigid. \\\n",
    "An algorithm can adjust its behavior based on conditions, making it more versatile."
   ]
  }
 ],
 "metadata": {
  "kernelspec": {
   "display_name": "Python 3",
   "language": "python",
   "name": "python3"
  },
  "language_info": {
   "codemirror_mode": {
    "name": "ipython",
    "version": 3
   },
   "file_extension": ".py",
   "mimetype": "text/x-python",
   "name": "python",
   "nbconvert_exporter": "python",
   "pygments_lexer": "ipython3",
   "version": "3.11.4"
  }
 },
 "nbformat": 4,
 "nbformat_minor": 2
}
